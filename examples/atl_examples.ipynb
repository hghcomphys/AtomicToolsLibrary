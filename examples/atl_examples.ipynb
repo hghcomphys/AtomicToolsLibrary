{
 "cells": [
  {
   "cell_type": "markdown",
   "metadata": {},
   "source": [
    "# Atomic Tools Library \n",
    "This jupyter notebook demonstrate different examples using ATL module. "
   ]
  },
  {
   "cell_type": "code",
   "execution_count": 1,
   "metadata": {},
   "outputs": [],
   "source": [
    "import atl # Atomic Tools Libary\n",
    "import numpy as np\n",
    "import matplotlib.pylab as plt\n",
    "import pandas as pd\n",
    "\n",
    "%matplotlib inline\n",
    "plt.style.use('ggplot')\n",
    "# print(plt.style.available)"
   ]
  },
  {
   "cell_type": "markdown",
   "metadata": {},
   "source": [
    "## Reading lammps log file"
   ]
  },
  {
   "cell_type": "code",
   "execution_count": 2,
   "metadata": {
    "scrolled": true
   },
   "outputs": [
    {
     "name": "stdout",
     "output_type": "stream",
     "text": [
      "['Step', 'Temp', 'TotEng', 'v_dens', 'v_E', 'v_K', 'v_P']\n",
      "[[0.0, 1.0, -14.083351, 0.038165632, -0.021146172, 0.0029763344, -0.024122506], [1000.0, 46.526908, 65.932951, 0.038165632, 0.098998425, 0.13847964, -0.039481212], [2000.0, 50.68053, 85.817303, 0.038165632, 0.12885481, 0.1508422, -0.021987393]]\n"
     ]
    }
   ],
   "source": [
    "data, tags = atl.read_log(filename=\"log.lammps\", run=1)\n",
    "\n",
    "print(tags)\n",
    "print (data[:3])"
   ]
  },
  {
   "cell_type": "code",
   "execution_count": 3,
   "metadata": {},
   "outputs": [
    {
     "name": "stdout",
     "output_type": "stream",
     "text": [
      "Index(['Step', 'Temp', 'TotEng', 'v_dens', 'v_E', 'v_K', 'v_P', 'Time'], dtype='object')\n"
     ]
    },
    {
     "name": "stderr",
     "output_type": "stream",
     "text": [
      "/home/hossein/anaconda3/lib/python3.6/site-packages/pandas/plotting/_core.py:1716: UserWarning: Pandas doesn't allow columns to be created via a new attribute name - see https://pandas.pydata.org/pandas-docs/stable/indexing.html#attribute-access\n",
      "  series.name = label\n"
     ]
    },
    {
     "data": {
      "text/plain": [
       "<matplotlib.legend.Legend at 0x7f4bce5d2550>"
      ]
     },
     "execution_count": 3,
     "metadata": {},
     "output_type": "execute_result"
    },
    {
     "data": {
      "image/png": "[encoded data removed]",
      "text/plain": [
       "<matplotlib.figure.Figure at 0x7f4c0d56b4e0>"
      ]
     },
     "metadata": {},
     "output_type": "display_data"
    }
   ],
   "source": [
    "log = atl.read_log_pandas(filename=\"log.lammps\", run=3) # reading into pandas\n",
    "log['Time'] = 1E-6 * log['Step']\n",
    "\n",
    "print(log.columns)\n",
    "\n",
    "# log.plot('time','Temp')\n",
    "log.plot('Time',['v_E', 'v_K', 'v_P'])\n",
    "\n",
    "plt.ylabel('Temperature (K)')\n",
    "plt.xlabel('Time (ps)')\n",
    "plt.legend(fontsize=12)"
   ]
  },
  {
   "cell_type": "markdown",
   "metadata": {},
   "source": [
    "## Reading .xyz file format"
   ]
  },
  {
   "cell_type": "code",
   "execution_count": 4,
   "metadata": {},
   "outputs": [
    {
     "data": {
      "text/html": [
       "<div>\n",
       "<style scoped>\n",
       "    .dataframe tbody tr th:only-of-type {\n",
       "        vertical-align: middle;\n",
       "    }\n",
       "\n",
       "    .dataframe tbody tr th {\n",
       "        vertical-align: top;\n",
       "    }\n",
       "\n",
       "    .dataframe thead th {\n",
       "        text-align: right;\n",
       "    }\n",
       "</style>\n",
       "<table border=\"1\" class=\"dataframe\">\n",
       "  <thead>\n",
       "    <tr style=\"text-align: right;\">\n",
       "      <th></th>\n",
       "      <th>t</th>\n",
       "      <th>x</th>\n",
       "      <th>y</th>\n",
       "      <th>z</th>\n",
       "    </tr>\n",
       "  </thead>\n",
       "  <tbody>\n",
       "    <tr>\n",
       "      <th>0</th>\n",
       "      <td>C</td>\n",
       "      <td>-1.842003</td>\n",
       "      <td>-3.545019</td>\n",
       "      <td>0.0</td>\n",
       "    </tr>\n",
       "    <tr>\n",
       "      <th>1</th>\n",
       "      <td>C</td>\n",
       "      <td>-3.070027</td>\n",
       "      <td>-2.836020</td>\n",
       "      <td>0.0</td>\n",
       "    </tr>\n",
       "    <tr>\n",
       "      <th>2</th>\n",
       "      <td>C</td>\n",
       "      <td>-3.070027</td>\n",
       "      <td>-1.418020</td>\n",
       "      <td>0.0</td>\n",
       "    </tr>\n",
       "    <tr>\n",
       "      <th>3</th>\n",
       "      <td>C</td>\n",
       "      <td>-1.842003</td>\n",
       "      <td>-0.709021</td>\n",
       "      <td>0.0</td>\n",
       "    </tr>\n",
       "    <tr>\n",
       "      <th>4</th>\n",
       "      <td>C</td>\n",
       "      <td>0.614044</td>\n",
       "      <td>-3.545019</td>\n",
       "      <td>0.0</td>\n",
       "    </tr>\n",
       "  </tbody>\n",
       "</table>\n",
       "</div>"
      ],
      "text/plain": [
       "   t         x         y    z\n",
       "0  C -1.842003 -3.545019  0.0\n",
       "1  C -3.070027 -2.836020  0.0\n",
       "2  C -3.070027 -1.418020  0.0\n",
       "3  C -1.842003 -0.709021  0.0\n",
       "4  C  0.614044 -3.545019  0.0"
      ]
     },
     "execution_count": 4,
     "metadata": {},
     "output_type": "execute_result"
    }
   ],
   "source": [
    "grn = atl.read_xyz_pandas('grn.xyz')\n",
    "grn.head()"
   ]
  },
  {
   "cell_type": "code",
   "execution_count": 5,
   "metadata": {},
   "outputs": [
    {
     "data": {
      "text/plain": [
       "(-3.377033, 4.4219669999999995, -3.8995189999999997, 3.8994809999999998)"
      ]
     },
     "execution_count": 5,
     "metadata": {},
     "output_type": "execute_result"
    },
    {
     "data": {
      "image/png": "[encoded data removed]",
      "text/plain": [
       "<matplotlib.figure.Figure at 0x7f4beb229b00>"
      ]
     },
     "metadata": {},
     "output_type": "display_data"
    }
   ],
   "source": [
    "plt.plot(grn.x, grn.y, 'o', ms=15)\n",
    "\n",
    "plt.ylabel('y ($\\AA$)')\n",
    "plt.xlabel('x ($\\AA$)')\n",
    "plt.axis('square')"
   ]
  },
  {
   "cell_type": "markdown",
   "metadata": {},
   "source": [
    "## Smoothing data"
   ]
  },
  {
   "cell_type": "code",
   "execution_count": 6,
   "metadata": {},
   "outputs": [
    {
     "data": {
      "text/plain": [
       "<matplotlib.legend.Legend at 0x7f4beb140d68>"
      ]
     },
     "execution_count": 6,
     "metadata": {},
     "output_type": "execute_result"
    },
    {
     "data": {
      "image/png": "[encoded data removed]",
      "text/plain": [
       "<matplotlib.figure.Figure at 0x7f4beb155048>"
      ]
     },
     "metadata": {},
     "output_type": "display_data"
    }
   ],
   "source": [
    "np.random.seed(1234)\n",
    "x  = np.linspace(0.0,10.0,200)\n",
    "y  = np.sin(x)+2*(np.random.rand(len(x))-0.5)\n",
    "xs, ys = atl.smooth_data(x, y, n_ave=20, step=2)\n",
    "\n",
    "plt.plot(x, y, label='data (noisy)')\n",
    "plt.plot(xs, ys, label='Smoothed data')\n",
    "plt.legend(fontsize=12)"
   ]
  },
  {
   "cell_type": "markdown",
   "metadata": {},
   "source": [
    "## Molecular Frame\n",
    "Modifying lammps input data file using *Molecular Frame* class"
   ]
  },
  {
   "cell_type": "code",
   "execution_count": 7,
   "metadata": {},
   "outputs": [
    {
     "name": "stdout",
     "output_type": "stream",
     "text": [
      "Number of molecules: 293\n",
      "Number of atoms: 879\n",
      "Number of bonds: 586\n",
      "Number of angles: 293\n",
      "Box: Lx(15.00) Ly(31.00) Lz(22.00)\n"
     ]
    }
   ],
   "source": [
    "water = atl.MolecularFrame()\n",
    "water.read_lmp('water.data') # reading lammps input file including atoms, bonds, angles, etc.\n",
    "\n",
    "print (\"Number of molecules:\", water.n_molecules)\n",
    "print (\"Number of atoms:\", water.n_atoms)\n",
    "print (\"Number of bonds:\", water.n_bonds)\n",
    "print (\"Number of angles:\", water.n_angles)\n",
    "print (\"Box: Lx(%1.2f) Ly(%1.2f) Lz(%1.2f)\"%(water.lx, water.ly, water.lz))"
   ]
  },
  {
   "cell_type": "markdown",
   "metadata": {},
   "source": [
    "# Moving atoms"
   ]
  },
  {
   "cell_type": "code",
   "execution_count": 8,
   "metadata": {},
   "outputs": [],
   "source": [
    "water.move_atoms([1.0, 1.0, 0.0])"
   ]
  },
  {
   "cell_type": "markdown",
   "metadata": {},
   "source": [
    "### Center of mass & re-centering"
   ]
  },
  {
   "cell_type": "code",
   "execution_count": 9,
   "metadata": {
    "scrolled": true
   },
   "outputs": [
    {
     "name": "stdout",
     "output_type": "stream",
     "text": [
      "Center of mass: [8.460467785745951, 20.44887050684226, 11.889981917376984]\n",
      "Center of mass: [6.760163414868245e-14, 1.4015847906811192e-13, 8.585341409074158e-14]\n"
     ]
    }
   ],
   "source": [
    "print (\"Center of mass:\", water.center_of_mass)\n",
    "water.recenter() # recentering to [0.0, 0.0, 0.0] (default)\n",
    "print (\"Center of mass:\", water.center_of_mass)"
   ]
  },
  {
   "cell_type": "markdown",
   "metadata": {},
   "source": [
    "### Selecting molecules in a specified region"
   ]
  },
  {
   "cell_type": "code",
   "execution_count": 10,
   "metadata": {},
   "outputs": [
    {
     "name": "stdout",
     "output_type": "stream",
     "text": [
      "Number of molecules (droplet): 105\n"
     ]
    }
   ],
   "source": [
    "def droplet(x, y, z):\n",
    "    if (np.sqrt(x**2+y**2+z**2)<10.0):  # or adding \"and (z>0.0):\"\n",
    "        return True # inside the region\n",
    "    else: \n",
    "        return False # outside the region\n",
    "    \n",
    "water_droplet = water.select_molecules_in_region(region_func=droplet) # the region function as input argument\n",
    "print (\"Number of molecules (droplet):\", water_droplet.n_molecules)"
   ]
  },
  {
   "cell_type": "markdown",
   "metadata": {},
   "source": [
    "<img src=\"water_droplet.png\" width=\"300\">"
   ]
  },
  {
   "cell_type": "markdown",
   "metadata": {},
   "source": [
    "### Randomly selected molecules"
   ]
  },
  {
   "cell_type": "code",
   "execution_count": 11,
   "metadata": {},
   "outputs": [
    {
     "name": "stdout",
     "output_type": "stream",
     "text": [
      "Number of molecules (randomly selected): 105\n"
     ]
    }
   ],
   "source": [
    "water_sel = water.select_molecules_randomly(nmol=water_droplet.n_molecules)\n",
    "print (\"Number of molecules (randomly selected):\", water_droplet.n_molecules)"
   ]
  },
  {
   "cell_type": "markdown",
   "metadata": {},
   "source": [
    "### Merging two molecules"
   ]
  },
  {
   "cell_type": "code",
   "execution_count": 12,
   "metadata": {},
   "outputs": [],
   "source": [
    "# ... e.g. channel = clay + water"
   ]
  },
  {
   "cell_type": "markdown",
   "metadata": {},
   "source": [
    "### Saving output molcular frame"
   ]
  },
  {
   "cell_type": "code",
   "execution_count": 13,
   "metadata": {},
   "outputs": [],
   "source": [
    "water_droplet.write_xyz('droplet.out.xyz')"
   ]
  },
  {
   "cell_type": "markdown",
   "metadata": {},
   "source": [
    "## Cross LJ parameters \n",
    "(suitable for LAMMPS)"
   ]
  },
  {
   "cell_type": "code",
   "execution_count": 14,
   "metadata": {},
   "outputs": [],
   "source": [
    "clay_param={\n",
    "    'ao':[70, 1.3297e-06, 4.27132],\n",
    "    'st':[71, 1.8402e-06, 3.30196],\n",
    "    'obc':[72, 0.155416, 3.1655200],\n",
    "    'oh':[73, 0.155416, 3.1655200],     \n",
    "    'ho':[74, 0.000000, 0.0000000],\n",
    "    'mgo':[75, 9.0298e-07, 5.90900],\n",
    "    'K': [76, 0.100000, 3.7423000],\n",
    "    'hw':[77,0.000000, 0.0000000],\n",
    "    'ow':[78, 0.155400, 3.5532000]\n",
    "}\n",
    "    \n",
    "benzene_param={\n",
    "    'H':[20, 2.829367882355780447E-02, 2.373408142809749322E+00],\n",
    "    'C':[63, 7.345736105118740034E-02, 3.520525192477496734E+00]\n",
    "}"
   ]
  },
  {
   "cell_type": "code",
   "execution_count": 15,
   "metadata": {},
   "outputs": [
    {
     "name": "stdout",
     "output_type": "stream",
     "text": [
      "# Generated by ATL \"intermol_lj_param()\"\n",
      "pair_coeff    20    70 0.0001939642 3.3223640714 # ao-H\n",
      "pair_coeff    63    70 0.0003125320 3.8959225962 # ao-C\n",
      "pair_coeff    20    71 0.0002281798 2.8376840714 # st-H\n",
      "pair_coeff    63    71 0.0003676632 3.4112425962 # st-C\n",
      "pair_coeff    20    72 0.0663120682 2.7694640714 # obc-H\n",
      "pair_coeff    63    72 0.1068477853 3.3430225962 # obc-C\n",
      "pair_coeff    20    73 0.0663120682 2.7694640714 # oh-H\n",
      "pair_coeff    63    73 0.1068477853 3.3430225962 # oh-C\n",
      "pair_coeff    20    74 0.0000000000 1.1867040714 # ho-H\n",
      "pair_coeff    63    74 0.0000000000 1.7602625962 # ho-C\n",
      "pair_coeff    20    75 0.0001598394 4.1412040714 # mgo-H\n",
      "pair_coeff    63    75 0.0002575471 4.7147625962 # mgo-C\n",
      "pair_coeff    20    76 0.0531918028 3.0578540714 # K-H\n",
      "pair_coeff    63    76 0.0857072698 3.6314125962 # K-C\n",
      "pair_coeff    20    77 0.0000000000 1.1867040714 # hw-H\n",
      "pair_coeff    63    77 0.0000000000 1.7602625962 # hw-C\n",
      "pair_coeff    20    78 0.0663086547 2.9633040714 # ow-H\n",
      "pair_coeff    63    78 0.1068422852 3.5368625962 # ow-C\n"
     ]
    }
   ],
   "source": [
    "atl.intermol_lj_param(clay_param, benzene_param, ignore_self_interact=True)"
   ]
  },
  {
   "cell_type": "markdown",
   "metadata": {},
   "source": [
    "## RDF calculations"
   ]
  },
  {
   "cell_type": "markdown",
   "metadata": {},
   "source": [
    "### Directly calling Fortran subroutine"
   ]
  },
  {
   "cell_type": "code",
   "execution_count": 2,
   "metadata": {},
   "outputs": [],
   "source": [
    "import os\n",
    "os.system(\"f2py -c ../atl/rdf_fort.f90 -m ../atl/rdf_fort\")\n",
    "import atl.rdf_fort \n",
    "\n",
    "atl.rdf_fort.calc_rdf_fort(file_name='dump.xyz',\n",
    "                   pbc_box=[19.246222, 19.246222, 19.246222],\n",
    "                   nr_mesh=100, \n",
    "                   r_cutoff=9.0, \n",
    "                   lateral=False, \n",
    "                   delta_z=1.0, \n",
    "                   sel_type='2', \n",
    "                   start_frame=50, \n",
    "                   stop_frame=1000000, \n",
    "                   step_frame=1)"
   ]
  },
  {
   "cell_type": "markdown",
   "metadata": {},
   "source": [
    "### Using ATL wrapper"
   ]
  },
  {
   "cell_type": "code",
   "execution_count": 10,
   "metadata": {},
   "outputs": [],
   "source": [
    "atl.calculate_rdf(file_name='dump.xyz', sel_type='2', pbc_box=[19.246222, 19.246222, 19.246222], r_cutoff=9)"
   ]
  },
  {
   "cell_type": "code",
   "execution_count": 12,
   "metadata": {},
   "outputs": [
    {
     "data": {
      "text/plain": [
       "Text(0.5,0,'r ($\\\\AA$)')"
      ]
     },
     "execution_count": 12,
     "metadata": {},
     "output_type": "execute_result"
    },
    {
     "data": {
      "image/png": "[encoded data removed]",
      "text/plain": [
       "<matplotlib.figure.Figure at 0x7fe33bf4ed68>"
      ]
     },
     "metadata": {},
     "output_type": "display_data"
    }
   ],
   "source": [
    "gr = np.loadtxt('gr.dat')\n",
    "# print(gr)\n",
    "plt.plot(gr[:,0], gr[:,1])\n",
    "\n",
    "plt.ylabel('g(r)')\n",
    "plt.xlabel('r ($\\AA$)')"
   ]
  },
  {
   "cell_type": "code",
   "execution_count": null,
   "metadata": {},
   "outputs": [],
   "source": []
  }
 ],
 "metadata": {
  "kernelspec": {
   "display_name": "Python 3",
   "language": "python",
   "name": "python3"
  },
  "language_info": {
   "codemirror_mode": {
    "name": "ipython",
    "version": 3
   },
   "file_extension": ".py",
   "mimetype": "text/x-python",
   "name": "python",
   "nbconvert_exporter": "python",
   "pygments_lexer": "ipython3",
   "version": "3.6.4"
  }
 },
 "nbformat": 4,
 "nbformat_minor": 2
}
